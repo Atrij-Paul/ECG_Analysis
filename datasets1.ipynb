{
 "cells": [
  {
   "cell_type": "code",
   "execution_count": 6,
   "id": "d155fcc8",
   "metadata": {},
   "outputs": [
    {
     "name": "stdout",
     "output_type": "stream",
     "text": [
      "Looking in indexes: https://pypi.org/simple, https://pypi.ngc.nvidia.com\n",
      "Requirement already satisfied: h5py in c:\\users\\atrij\\anaconda3\\envs\\tf\\lib\\site-packages (3.7.0)\n",
      "Requirement already satisfied: numpy>=1.14.5 in c:\\users\\atrij\\anaconda3\\envs\\tf\\lib\\site-packages (from h5py) (1.25.0)\n",
      "Looking in indexes: https://pypi.org/simple, https://pypi.ngc.nvidia.com\n",
      "Collecting pandas\n",
      "  Obtaining dependency information for pandas from https://files.pythonhosted.org/packages/9a/f2/0ad053856debbe90c83de1b4f05915f85fd2146f20faf9daa3b320d36df3/pandas-2.0.3-cp39-cp39-win_amd64.whl.metadata\n",
      "  Downloading pandas-2.0.3-cp39-cp39-win_amd64.whl.metadata (18 kB)\n",
      "Requirement already satisfied: python-dateutil>=2.8.2 in c:\\users\\atrij\\anaconda3\\envs\\tf\\lib\\site-packages (from pandas) (2.8.2)\n",
      "Requirement already satisfied: pytz>=2020.1 in c:\\users\\atrij\\anaconda3\\envs\\tf\\lib\\site-packages (from pandas) (2022.7)\n",
      "Collecting tzdata>=2022.1 (from pandas)\n",
      "  Downloading tzdata-2023.3-py2.py3-none-any.whl (341 kB)\n",
      "     ---------------------------------------- 0.0/341.8 kB ? eta -:--:--\n",
      "     ------------ ------------------------- 112.6/341.8 kB 2.2 MB/s eta 0:00:01\n",
      "     -------------------------------------- 341.8/341.8 kB 3.5 MB/s eta 0:00:00\n",
      "Requirement already satisfied: numpy>=1.20.3 in c:\\users\\atrij\\anaconda3\\envs\\tf\\lib\\site-packages (from pandas) (1.25.0)\n",
      "Requirement already satisfied: six>=1.5 in c:\\users\\atrij\\anaconda3\\envs\\tf\\lib\\site-packages (from python-dateutil>=2.8.2->pandas) (1.16.0)\n",
      "Downloading pandas-2.0.3-cp39-cp39-win_amd64.whl (10.8 MB)\n",
      "   ---------------------------------------- 0.0/10.8 MB ? eta -:--:--\n",
      "   - -------------------------------------- 0.4/10.8 MB 8.5 MB/s eta 0:00:02\n",
      "   --- ------------------------------------ 1.1/10.8 MB 11.3 MB/s eta 0:00:01\n",
      "   ------ --------------------------------- 1.8/10.8 MB 12.6 MB/s eta 0:00:01\n",
      "   --------- ------------------------------ 2.5/10.8 MB 13.4 MB/s eta 0:00:01\n",
      "   ----------- ---------------------------- 3.2/10.8 MB 14.7 MB/s eta 0:00:01\n",
      "   -------------- ------------------------- 4.0/10.8 MB 14.2 MB/s eta 0:00:01\n",
      "   ------------------ --------------------- 4.8/10.8 MB 14.7 MB/s eta 0:00:01\n",
      "   -------------------- ------------------- 5.5/10.8 MB 14.7 MB/s eta 0:00:01\n",
      "   ----------------------- ---------------- 6.3/10.8 MB 15.0 MB/s eta 0:00:01\n",
      "   -------------------------- ------------- 7.1/10.8 MB 15.1 MB/s eta 0:00:01\n",
      "   ---------------------------- ----------- 7.7/10.8 MB 15.0 MB/s eta 0:00:01\n",
      "   ------------------------------ --------- 8.3/10.8 MB 14.8 MB/s eta 0:00:01\n",
      "   --------------------------------- ------ 8.9/10.8 MB 14.6 MB/s eta 0:00:01\n",
      "   ----------------------------------- ---- 9.5/10.8 MB 14.4 MB/s eta 0:00:01\n",
      "   ------------------------------------- -- 10.2/10.8 MB 14.4 MB/s eta 0:00:01\n",
      "   ---------------------------------------- 10.8/10.8 MB 14.5 MB/s eta 0:00:00\n",
      "Installing collected packages: tzdata, pandas\n",
      "Successfully installed pandas-2.0.3 tzdata-2023.3\n"
     ]
    }
   ],
   "source": [
    "!pip install h5py\n",
    "!pip install pandas"
   ]
  },
  {
   "cell_type": "code",
   "execution_count": 7,
   "id": "79d5d04a",
   "metadata": {},
   "outputs": [],
   "source": [
    "# import h5py\n",
    "import math\n",
    "import pandas as pd\n",
    "from tensorflow.keras.utils import Sequence\n",
    "import numpy as np"
   ]
  },
  {
   "cell_type": "code",
   "execution_count": 9,
   "id": "cb6752a9",
   "metadata": {},
   "outputs": [
    {
     "name": "stdout",
     "output_type": "stream",
     "text": [
      "Looking in indexes: https://pypi.org/simple, https://pypi.ngc.nvidia.com\n",
      "Collecting hdf5plugin\n",
      "  Obtaining dependency information for hdf5plugin from https://files.pythonhosted.org/packages/93/92/e6f276daa2c9f3be4c37c65fa4ebe1809979612a78d7d6069ecdba286dfb/hdf5plugin-4.1.3-py3-none-win_amd64.whl.metadata\n",
      "  Downloading hdf5plugin-4.1.3-py3-none-win_amd64.whl.metadata (2.8 kB)\n",
      "Requirement already satisfied: h5py in c:\\users\\atrij\\anaconda3\\envs\\tf\\lib\\site-packages (from hdf5plugin) (3.7.0)\n",
      "Requirement already satisfied: numpy>=1.14.5 in c:\\users\\atrij\\anaconda3\\envs\\tf\\lib\\site-packages (from h5py->hdf5plugin) (1.25.0)\n",
      "Downloading hdf5plugin-4.1.3-py3-none-win_amd64.whl (3.7 MB)\n",
      "   ---------------------------------------- 0.0/3.7 MB ? eta -:--:--\n",
      "   ---------------------------------------- 0.0/3.7 MB 960.0 kB/s eta 0:00:04\n",
      "   -- ------------------------------------- 0.3/3.7 MB 3.4 MB/s eta 0:00:02\n",
      "   ------ --------------------------------- 0.6/3.7 MB 4.8 MB/s eta 0:00:01\n",
      "   ---------- ----------------------------- 1.0/3.7 MB 5.8 MB/s eta 0:00:01\n",
      "   ----------- ---------------------------- 1.0/3.7 MB 5.5 MB/s eta 0:00:01\n",
      "   ----------- ---------------------------- 1.0/3.7 MB 5.5 MB/s eta 0:00:01\n",
      "   ----------- ---------------------------- 1.0/3.7 MB 5.5 MB/s eta 0:00:01\n",
      "   ----------- ---------------------------- 1.0/3.7 MB 5.5 MB/s eta 0:00:01\n",
      "   ----------- ---------------------------- 1.0/3.7 MB 5.5 MB/s eta 0:00:01\n",
      "   -------------- ------------------------- 1.4/3.7 MB 2.9 MB/s eta 0:00:01\n",
      "   ------------------- -------------------- 1.8/3.7 MB 3.5 MB/s eta 0:00:01\n",
      "   ---------------------- ----------------- 2.1/3.7 MB 3.9 MB/s eta 0:00:01\n",
      "   ---------------------- ----------------- 2.1/3.7 MB 3.9 MB/s eta 0:00:01\n",
      "   ---------------------- ----------------- 2.1/3.7 MB 3.9 MB/s eta 0:00:01\n",
      "   ---------------------- ----------------- 2.1/3.7 MB 3.9 MB/s eta 0:00:01\n",
      "   ------------------------- -------------- 2.4/3.7 MB 3.2 MB/s eta 0:00:01\n",
      "   ------------------------------- -------- 2.9/3.7 MB 3.7 MB/s eta 0:00:01\n",
      "   ------------------------------------ --- 3.4/3.7 MB 4.1 MB/s eta 0:00:01\n",
      "   ---------------------------------------- 3.7/3.7 MB 4.3 MB/s eta 0:00:00\n",
      "Installing collected packages: hdf5plugin\n",
      "Successfully installed hdf5plugin-4.1.3\n"
     ]
    }
   ],
   "source": [
    "!pip install hdf5plugin"
   ]
  },
  {
   "cell_type": "code",
   "execution_count": 14,
   "id": "931ecfd3",
   "metadata": {},
   "outputs": [
    {
     "name": "stdout",
     "output_type": "stream",
     "text": [
      "Looking in indexes: https://pypi.org/simple, https://pypi.ngc.nvidia.com\n",
      "Requirement already satisfied: h5py in c:\\users\\atrij\\anaconda3\\envs\\tf\\lib\\site-packages (3.7.0)\n",
      "Collecting h5py\n",
      "  Obtaining dependency information for h5py from https://files.pythonhosted.org/packages/a0/62/9790f98aa125a035cda91be7a41a46bdc76b26ffdd2ad2d3c5b7f7232946/h5py-3.9.0-cp39-cp39-win_amd64.whl.metadata\n",
      "  Downloading h5py-3.9.0-cp39-cp39-win_amd64.whl.metadata (2.5 kB)\n",
      "Requirement already satisfied: numpy>=1.17.3 in c:\\users\\atrij\\anaconda3\\envs\\tf\\lib\\site-packages (from h5py) (1.25.0)\n",
      "Downloading h5py-3.9.0-cp39-cp39-win_amd64.whl (2.7 MB)\n",
      "   ---------------------------------------- 0.0/2.7 MB ? eta -:--:--\n",
      "   ---------------------------------------- 0.0/2.7 MB ? eta -:--:--\n",
      "   - -------------------------------------- 0.1/2.7 MB 2.2 MB/s eta 0:00:02\n",
      "   --- ------------------------------------ 0.2/2.7 MB 2.0 MB/s eta 0:00:02\n",
      "   ----- ---------------------------------- 0.3/2.7 MB 2.1 MB/s eta 0:00:02\n",
      "   ------ --------------------------------- 0.4/2.7 MB 2.1 MB/s eta 0:00:02\n",
      "   ------ --------------------------------- 0.4/2.7 MB 2.1 MB/s eta 0:00:02\n",
      "   ------- -------------------------------- 0.5/2.7 MB 1.5 MB/s eta 0:00:02\n",
      "   -------- ------------------------------- 0.6/2.7 MB 1.5 MB/s eta 0:00:02\n",
      "   ---------- ----------------------------- 0.7/2.7 MB 1.7 MB/s eta 0:00:02\n",
      "   ------------- -------------------------- 0.9/2.7 MB 1.9 MB/s eta 0:00:01\n",
      "   --------------- ------------------------ 1.0/2.7 MB 2.0 MB/s eta 0:00:01\n",
      "   ----------------- ---------------------- 1.2/2.7 MB 2.2 MB/s eta 0:00:01\n",
      "   -------------------- ------------------- 1.4/2.7 MB 2.3 MB/s eta 0:00:01\n",
      "   ---------------------- ----------------- 1.5/2.7 MB 2.4 MB/s eta 0:00:01\n",
      "   ------------------------- -------------- 1.7/2.7 MB 2.4 MB/s eta 0:00:01\n",
      "   --------------------------- ------------ 1.9/2.7 MB 2.5 MB/s eta 0:00:01\n",
      "   ------------------------------ --------- 2.0/2.7 MB 2.6 MB/s eta 0:00:01\n",
      "   -------------------------------- ------- 2.2/2.7 MB 2.6 MB/s eta 0:00:01\n",
      "   ----------------------------------- ---- 2.4/2.7 MB 2.7 MB/s eta 0:00:01\n",
      "   ------------------------------------- -- 2.5/2.7 MB 2.7 MB/s eta 0:00:01\n",
      "   ---------------------------------------- 2.7/2.7 MB 2.8 MB/s eta 0:00:00\n",
      "Installing collected packages: h5py\n",
      "Successfully installed h5py-3.9.0\n"
     ]
    }
   ],
   "source": [
    "!pip install --upgrade h5py --user"
   ]
  },
  {
   "cell_type": "code",
   "execution_count": 15,
   "id": "d01b77de",
   "metadata": {},
   "outputs": [],
   "source": [
    "try:\n",
    "    import h5py\n",
    "    # Your code that uses h5py can go here\n",
    "except ImportError as e:\n",
    "    # Handle the DLL error\n",
    "    print(\"Error importing h5py:\", e)\n",
    "    print(\"Make sure the HDF5 C library is installed and accessible.\")\n",
    "    # Optionally, you can install h5py using pip here or perform other error handling actions."
   ]
  },
  {
   "cell_type": "code",
   "execution_count": 17,
   "id": "ebbac58f",
   "metadata": {},
   "outputs": [],
   "source": [
    "\n",
    "class ECGSequence(Sequence):\n",
    "    @classmethod\n",
    "    def get_train_and_val(cls, path_to_hdf5, hdf5_dset, path_to_csv, batch_size=8, val_split=0.02):\n",
    "        n_samples = len(pd.read_csv(path_to_csv))\n",
    "        n_train = math.ceil(n_samples*(1-val_split))\n",
    "        train_seq = cls(path_to_hdf5, hdf5_dset, path_to_csv, batch_size, end_idx=n_train)\n",
    "        valid_seq = cls(path_to_hdf5, hdf5_dset, path_to_csv, batch_size, start_idx=n_train)\n",
    "        return train_seq, valid_seq\n",
    "\n",
    "    def __init__(self, path_to_hdf5, hdf5_dset, path_to_csv=None, batch_size=8,\n",
    "                 start_idx=0, end_idx=None):\n",
    "        if path_to_csv is None:\n",
    "            self.y = None\n",
    "        else:\n",
    "            self.y = pd.read_csv(path_to_csv).values\n",
    "        # Get tracings\n",
    "        self.f = h5py.File(path_to_hdf5, \"r\")\n",
    "        self.x = self.f[hdf5_dset]\n",
    "        self.batch_size = batch_size\n",
    "        if end_idx is None:\n",
    "            end_idx = len(self.x)\n",
    "        self.start_idx = start_idx\n",
    "        self.end_idx = end_idx\n",
    "\n",
    "    @property\n",
    "    def n_classes(self):\n",
    "        return self.y.shape[1]\n",
    "\n",
    "    def __getitem__(self, idx):\n",
    "        start = self.start_idx + idx * self.batch_size\n",
    "        end = min(start + self.batch_size, self.end_idx)\n",
    "        if self.y is None:\n",
    "            return np.array(self.x[start:end, :, :])\n",
    "        else:\n",
    "            return np.array(self.x[start:end, :, :]), np.array(self.y[start:end])\n",
    "\n",
    "    def __len__(self):\n",
    "        return math.ceil((self.end_idx - self.start_idx) / self.batch_size)\n",
    "\n",
    "    def __del__(self):\n",
    "        self.f.close()"
   ]
  },
  {
   "cell_type": "code",
   "execution_count": null,
   "id": "a626bd0b",
   "metadata": {},
   "outputs": [],
   "source": []
  }
 ],
 "metadata": {
  "kernelspec": {
   "display_name": "Python 3 (ipykernel)",
   "language": "python",
   "name": "python3"
  },
  "language_info": {
   "codemirror_mode": {
    "name": "ipython",
    "version": 3
   },
   "file_extension": ".py",
   "mimetype": "text/x-python",
   "name": "python",
   "nbconvert_exporter": "python",
   "pygments_lexer": "ipython3",
   "version": "3.9.17"
  }
 },
 "nbformat": 4,
 "nbformat_minor": 5
}
